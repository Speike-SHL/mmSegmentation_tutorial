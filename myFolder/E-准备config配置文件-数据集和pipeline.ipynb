{
 "cells": [
  {
   "cell_type": "code",
   "execution_count": 1,
   "id": "426b584c-a598-416b-8eb7-cffcdafa3312",
   "metadata": {
    "tags": []
   },
   "outputs": [],
   "source": [
    "import os\n",
    "import workspace_path\n",
    "os.chdir(workspace_path.path)"
   ]
  },
  {
   "cell_type": "code",
   "execution_count": 2,
   "id": "613ee846-4059-4509-b063-5b443ad49305",
   "metadata": {},
   "outputs": [
    {
     "data": {
      "text/plain": [
       "'e:\\\\Code\\\\openmmlab\\\\mmsegmentation'"
      ]
     },
     "execution_count": 2,
     "metadata": {},
     "output_type": "execute_result"
    }
   ],
   "source": [
    "os.getcwd()"
   ]
  },
  {
   "cell_type": "markdown",
   "id": "16ea93b6-d61b-4478-ba32-a65a7be24a76",
   "metadata": {},
   "source": [
    "## 一：数据集配置文件\n",
    "\n",
    "定义数据集类（各类别名称及配色）"
   ]
  },
  {
   "cell_type": "code",
   "execution_count": 3,
   "id": "54a949e3-a33f-4b32-8fd4-ae893c07cc8b",
   "metadata": {},
   "outputs": [
    {
     "data": {
      "text/plain": [
       "('mmseg/datasets/ZihaoDataset.py', <http.client.HTTPMessage at 0x228aa6e5280>)"
      ]
     },
     "execution_count": 3,
     "metadata": {},
     "output_type": "execute_result"
    }
   ],
   "source": [
    "import os\n",
    "import urllib.request\n",
    "\n",
    "# 删除文件\n",
    "file_path = \"mmseg/datasets/ZihaoDataset.py\"\n",
    "if os.path.exists(file_path):\n",
    "    os.remove(file_path)\n",
    "\n",
    "# 下载文件\n",
    "url = \"https://zihao-openmmlab.obs.cn-east-3.myhuaweicloud.com/20230130-mmseg/watermelon/configs/ZihaoDataset.py\"\n",
    "save_path = \"mmseg/datasets/ZihaoDataset.py\"\n",
    "urllib.request.urlretrieve(url, save_path)"
   ]
  },
  {
   "cell_type": "code",
   "execution_count": 4,
   "id": "8c06714c",
   "metadata": {},
   "outputs": [
    {
     "name": "stdout",
     "output_type": "stream",
     "text": [
      "# 同济子豪兄 2023-6-25\n",
      "from mmseg.registry import DATASETS\n",
      "from .basesegdataset import BaseSegDataset\n",
      "\n",
      "@DATASETS.register_module()\n",
      "class ZihaoDataset(BaseSegDataset):\n",
      "    # 类别和对应的 RGB配色\n",
      "    METAINFO = {\n",
      "        'classes':['background', 'red', 'green', 'white', 'seed-black', 'seed-white'],\n",
      "        'palette':[[127,127,127], [200,0,0], [0,200,0], [144,238,144], [30,30,30], [251,189,8]]\n",
      "    }\n",
      "    \n",
      "    # 指定图像扩展名、标注扩展名\n",
      "    def __init__(self,\n",
      "                 seg_map_suffix='.png',   # 标注mask图像的格式\n",
      "                 reduce_zero_label=False, # 类别ID为0的类别是否需要除去\n",
      "                 **kwargs) -> None:\n",
      "        super().__init__(\n",
      "            seg_map_suffix=seg_map_suffix,\n",
      "            reduce_zero_label=reduce_zero_label,\n",
      "            **kwargs)\n"
     ]
    }
   ],
   "source": [
    "with open(save_path, 'r') as file:\n",
    "    content = file.read()\n",
    "    print(content)"
   ]
  },
  {
   "cell_type": "markdown",
   "id": "92604575-37e8-47cb-983f-ff9e636397b1",
   "metadata": {},
   "source": [
    "## 二：注册数据集类\n",
    "\n",
    "在`mmseg/datasets/__init__.py`中注册刚刚定义的`ZihaoDataset`数据集类"
   ]
  },
  {
   "cell_type": "code",
   "execution_count": 5,
   "id": "b3a64f85-32ed-44e8-b166-98fb9874c67b",
   "metadata": {},
   "outputs": [],
   "source": [
    "# 创建文件副本\n",
    "import shutil\n",
    "if os.path.exists(\"mmseg/datasets/__init__bak.py\"):\n",
    "    shutil.copyfile(\"mmseg/datasets/__init__bak.py\", \"mmseg/datasets/__init__.py\")\n",
    "else:\n",
    "    shutil.copyfile(\"mmseg/datasets/__init__.py\", \"mmseg/datasets/__init__bak.py\")\n",
    "\n",
    "# 读取文件内容\n",
    "with open('mmseg/datasets/__init__.py', 'r') as file:\n",
    "    content = file.readlines()\n",
    "\n",
    "# 在 __all__ 上面添加新的 import 语句\n",
    "new_line = 'from .ZihaoDataset import ZihaoDataset\\n'\n",
    "index = content.index('__all__ = [\\n') - 2\n",
    "content.insert(index, new_line)\n",
    "\n",
    "# 在 __all__ 的最后追加一个列表元素\n",
    "new_element = \"    ,'ZihaoDataset'\\n\"\n",
    "index = content.index(']\\n')\n",
    "content.insert(index, new_element)\n",
    "\n",
    "# 写入修改后的内容到文件\n",
    "with open('mmseg/datasets/__init__.py', 'w') as file:\n",
    "    file.writelines(content)"
   ]
  },
  {
   "cell_type": "markdown",
   "id": "9fc5a127-4fc6-4834-a991-b19e9ce62fb9",
   "metadata": {},
   "source": [
    "## 三：pipeline配置文件\n",
    "\n",
    "数据集路径、预处理、后处理、DataLoader、测试集评估指标"
   ]
  },
  {
   "cell_type": "code",
   "execution_count": 6,
   "id": "563163df-d556-4a56-b84d-28f9f359b01a",
   "metadata": {},
   "outputs": [],
   "source": [
    "# 删除文件\n",
    "file_path = \"configs/_base_/datasets/ZihaoDataset_pipeline.py\"\n",
    "if os.path.exists(file_path):\n",
    "    os.remove(file_path)\n",
    "\n",
    "content = '''\n",
    "# 数据处理 pipeline\n",
    "# 同济子豪兄 2023-6-28\n",
    "\n",
    "# 数据集路径\n",
    "dataset_type = 'ZihaoDataset' # 数据集类名\n",
    "data_root = 'data/Watermelon87_Semantic_Seg_Mask/' # 数据集路径（相对于mmsegmentation主目录）\n",
    "\n",
    "# 输入模型的图像裁剪尺寸，一般是 128 的倍数，越小显存开销越少\n",
    "crop_size = (512, 512)\n",
    "\n",
    "# 训练预处理\n",
    "train_pipeline = [\n",
    "    dict(type='LoadImageFromFile'),\n",
    "    dict(type='LoadAnnotations'),\n",
    "    dict(\n",
    "        type='RandomResize',\n",
    "        scale=(2048, 1024),\n",
    "        ratio_range=(0.5, 2.0),\n",
    "        keep_ratio=True),\n",
    "    dict(type='RandomCrop', crop_size=crop_size, cat_max_ratio=0.75),\n",
    "    dict(type='RandomFlip', prob=0.5),\n",
    "    dict(type='PhotoMetricDistortion'),\n",
    "    dict(type='PackSegInputs')\n",
    "]\n",
    "\n",
    "# 测试预处理\n",
    "test_pipeline = [\n",
    "    dict(type='LoadImageFromFile'),\n",
    "    dict(type='Resize', scale=(2048, 1024), keep_ratio=True),\n",
    "    dict(type='LoadAnnotations'),\n",
    "    dict(type='PackSegInputs')\n",
    "]\n",
    "\n",
    "# TTA后处理\n",
    "img_ratios = [0.5, 0.75, 1.0, 1.25, 1.5, 1.75]\n",
    "tta_pipeline = [\n",
    "    dict(type='LoadImageFromFile', file_client_args=dict(backend='disk')),\n",
    "    dict(\n",
    "        type='TestTimeAug',\n",
    "        transforms=[\n",
    "            [\n",
    "                dict(type='Resize', scale_factor=r, keep_ratio=True)\n",
    "                for r in img_ratios\n",
    "            ],\n",
    "            [\n",
    "                dict(type='RandomFlip', prob=0., direction='horizontal'),\n",
    "                dict(type='RandomFlip', prob=1., direction='horizontal')\n",
    "            ], [dict(type='LoadAnnotations')], [dict(type='PackSegInputs')]\n",
    "        ])\n",
    "]\n",
    "\n",
    "# 训练 Dataloader\n",
    "train_dataloader = dict(\n",
    "    batch_size=2,\n",
    "    num_workers=2,\n",
    "    persistent_workers=True,\n",
    "    sampler=dict(type='InfiniteSampler', shuffle=True),\n",
    "    dataset=dict(\n",
    "        type=dataset_type,\n",
    "        data_root=data_root,\n",
    "        data_prefix=dict(\n",
    "            img_path='img_dir/train', seg_map_path='ann_dir/train'),\n",
    "        pipeline=train_pipeline))\n",
    "\n",
    "# 验证 Dataloader\n",
    "val_dataloader = dict(\n",
    "    batch_size=1,\n",
    "    num_workers=4,\n",
    "    persistent_workers=True,\n",
    "    sampler=dict(type='DefaultSampler', shuffle=False),\n",
    "    dataset=dict(\n",
    "        type=dataset_type,\n",
    "        data_root=data_root,\n",
    "        data_prefix=dict(\n",
    "            img_path='img_dir/val', seg_map_path='ann_dir/val'),\n",
    "        pipeline=test_pipeline))\n",
    "\n",
    "# 测试 Dataloader\n",
    "test_dataloader = val_dataloader\n",
    "\n",
    "# 验证 Evaluator\n",
    "val_evaluator = dict(type='IoUMetric', iou_metrics=['mIoU', 'mDice', 'mFscore'])\n",
    "\n",
    "# 测试 Evaluator\n",
    "test_evaluator = val_evaluator\n",
    "'''\n",
    "\n",
    "# 创建文件并写入文本\n",
    "with open(file_path, 'w') as file:\n",
    "    file.write(content)\n"
   ]
  }
 ],
 "metadata": {
  "kernelspec": {
   "display_name": "Python 3 (ipykernel)",
   "language": "python",
   "name": "python3"
  },
  "language_info": {
   "codemirror_mode": {
    "name": "ipython",
    "version": 3
   },
   "file_extension": ".py",
   "mimetype": "text/x-python",
   "name": "python",
   "nbconvert_exporter": "python",
   "pygments_lexer": "ipython3",
   "version": "3.8.17"
  }
 },
 "nbformat": 4,
 "nbformat_minor": 5
}
