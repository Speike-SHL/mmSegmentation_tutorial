{
 "cells": [
  {
   "cell_type": "markdown",
   "metadata": {},
   "source": [
    "原代码教程地址：https://github.com/TommyZihao/MMSegmentation_Tutorials\n",
    "\n",
    "张子豪（同济子豪兄）：https://github.com/TommyZihao\n",
    "\n",
    "OpenMMLab主页：https://openmmlab.com\n",
    "\n",
    "OpenMMLab开源语义分割算法库MMSegmentation：https://github.com/open-mmlab/mmsegmentation\n"
   ]
  },
  {
   "cell_type": "markdown",
   "metadata": {},
   "source": [
    "## 首先下载好mmsegmentation和mmdeploy算法库\n",
    "\n",
    "目录结构为:\n",
    "```\n",
    "openmmlab\n",
    " ├── mmdeploy\n",
    "          └── *\n",
    " └── mmsegmentation\n",
    "          ├── myFolder\n",
    "          └── *\n",
    "```"
   ]
  },
  {
   "cell_type": "markdown",
   "metadata": {},
   "source": [
    "\n",
    "## 请先把myFolder目录整体移到mmsegmentation目录中, 然后执行下面的片段"
   ]
  },
  {
   "cell_type": "code",
   "execution_count": 2,
   "metadata": {},
   "outputs": [],
   "source": [
    "import os\n",
    "\n",
    "# 获取当前目录路径\n",
    "current_dir = os.getcwd()\n",
    "# 获取当前上级目录的全局路径\n",
    "parent_dir = os.path.dirname(current_dir)\n",
    "# 获取上上级目录的全局路径\n",
    "parent_parent_dir = os.path.dirname(parent_dir)\n",
    "# 修改workspace_path.py文件\n",
    "if os.path.basename(parent_dir) == \"mmsegmentation\":\n",
    "    with open(\"workspace_path.py\", \"w\") as f:\n",
    "        f.write(\"path = '\" + parent_dir + \"'\\n\")\n",
    "else:\n",
    "    raise ValueError(\"请将myFolder移动到mmsegmentation下\")\n",
    "if os.path.basename(parent_parent_dir) == \"openmmlab\":\n",
    "    with open(\"workspace_path.py\", \"a\") as f:\n",
    "        f.write(\"openmmlab_path = '\" + parent_parent_dir + \"'\\n\")\n",
    "else:\n",
    "    raise ValueError(\"请将mmsegmentation移动到openmmlab下\")\n",
    "if os.path.exists(parent_parent_dir + \"\\mmdeploy\"):\n",
    "    with open(\"workspace_path.py\", \"a\") as f:\n",
    "        f.write(\"mmdeploy_path = '\" + parent_parent_dir + \"\\mmdeploy'\\n\")\n",
    "else:\n",
    "    raise ValueError(\"请将mmdeploy移动到openmmlab下\")"
   ]
  },
  {
   "cell_type": "markdown",
   "metadata": {},
   "source": [
    "## 下载运行需要的预训练模型文件"
   ]
  },
  {
   "cell_type": "code",
   "execution_count": 2,
   "metadata": {},
   "outputs": [
    {
     "name": "stdout",
     "output_type": "stream",
     "text": [
      "当前工作路径切换为： e:\\Code\\openmmlab\\mmsegmentation\n"
     ]
    }
   ],
   "source": [
    "import workspace_path\n",
    "os.chdir(workspace_path.path)\n",
    "print(\"当前工作路径切换为：\", os.getcwd())"
   ]
  },
  {
   "cell_type": "code",
   "execution_count": 3,
   "metadata": {},
   "outputs": [],
   "source": [
    "import urllib.request\n",
    "\n",
    "pspnet_url = \"https://download.openmmlab.com/mmsegmentation/v0.5/pspnet/pspnet_r50-d8_512x1024_40k_cityscapes/pspnet_r50-d8_512x1024_40k_cityscapes_20200605_003338-2966598c.pth\"\n",
    "segformer_url = \"https://download.openmmlab.com/mmsegmentation/v0.5/segformer/segformer_mit-b5_8x1_1024x1024_160k_cityscapes/segformer_mit-b5_8x1_1024x1024_160k_cityscapes_20211206_072934-87a052ec.pth\"\n",
    "segformer_ade20k = \"https://download.openmmlab.com/mmsegmentation/v0.5/segformer/segformer_mit-b5_640x640_160k_ade20k/segformer_mit-b5_640x640_160k_ade20k_20220617_203542-940a6bd8.pth\"\n",
    "pspnet_save_path = \"myFolder/checkpoint/pspnet_r50-d8_512x1024_40k_cityscapes_20200605_003338-2966598c.pth\"\n",
    "segformer_save_path = \"myFolder/checkpoint/segformer_mit-b5_8x1_1024x1024_160k_cityscapes_20211206_072934-87a052ec.pth\"\n",
    "segformer_ade20k_save_path = \"myFolder/checkpoint/segformer_mit-b5_640x640_160k_ade20k_20220617_203542-940a6bd8.pth\"\n",
    "\n",
    "if os.path.exists(pspnet_save_path):\n",
    "    print(\"pspnet_r50-d8_512x1024_40k_cityscapes_20200605_003338-2966598c.pth 已存在\")\n",
    "else:\n",
    "    urllib.request.urlretrieve(pspnet_url, pspnet_save_path)\n",
    "if os.path.exists(segformer_save_path):\n",
    "    print(\"segformer_mit-b5_8x1_1024x1024_160k_cityscapes_20211206_072934-87a052ec.pth 已存在\")\n",
    "else:\n",
    "    urllib.request.urlretrieve(segformer_url, segformer_save_path)\n",
    "if os.path.exists(segformer_ade20k_save_path):\n",
    "    print(\"segformer_mit-b5_640x640_160k_ade20k_20220617_203542-940a6bd8.pth 已存在\")\n",
    "else:\n",
    "    urllib.request.urlretrieve(segformer_ade20k, segformer_ade20k_save_path)"
   ]
  },
  {
   "cell_type": "markdown",
   "metadata": {},
   "source": [
    "如果在vscode中还需要在mmsegmentation下创建一个.env文件, 方便vscode找到mmseg包, 文件内容为:`PYTHONPATH=<mmsegmentation的绝对路径>`"
   ]
  }
 ],
 "metadata": {
  "kernelspec": {
   "display_name": "openmmlab",
   "language": "python",
   "name": "python3"
  },
  "language_info": {
   "codemirror_mode": {
    "name": "ipython",
    "version": 3
   },
   "file_extension": ".py",
   "mimetype": "text/x-python",
   "name": "python",
   "nbconvert_exporter": "python",
   "pygments_lexer": "ipython3",
   "version": "3.8.17"
  },
  "orig_nbformat": 4
 },
 "nbformat": 4,
 "nbformat_minor": 2
}
