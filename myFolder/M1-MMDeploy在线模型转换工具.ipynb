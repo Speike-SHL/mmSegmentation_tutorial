{
 "cells": [
  {
   "cell_type": "markdown",
   "id": "4f6fd552-4c00-4972-b5f0-041c0fa54381",
   "metadata": {},
   "source": [
    "# MMDeploy-在线模型转换工具\n",
    "\n",
    "同济子豪兄 2023-7-16"
   ]
  },
  {
   "cell_type": "markdown",
   "id": "65743976-bcbf-45dd-aded-ea65cf1625c2",
   "metadata": {},
   "source": [
    "## 在线模型转换工具\n",
    "\n",
    "https://platform.openmmlab.com/deploee"
   ]
  }
 ],
 "metadata": {
  "kernelspec": {
   "display_name": "Python 3 (ipykernel)",
   "language": "python",
   "name": "python3"
  },
  "language_info": {
   "codemirror_mode": {
    "name": "ipython",
    "version": 3
   },
   "file_extension": ".py",
   "mimetype": "text/x-python",
   "name": "python",
   "nbconvert_exporter": "python",
   "pygments_lexer": "ipython3",
   "version": "3.7.10"
  }
 },
 "nbformat": 4,
 "nbformat_minor": 5
}
