{
 "cells": [
  {
   "cell_type": "code",
   "execution_count": 2,
   "metadata": {},
   "outputs": [
    {
     "data": {
      "text/plain": [
       "'e:\\\\Code\\\\openmmlab\\\\mmdeploy'"
      ]
     },
     "execution_count": 2,
     "metadata": {},
     "output_type": "execute_result"
    }
   ],
   "source": [
    "import os\n",
    "import workspace_path\n",
    "os.chdir(workspace_path.mmdeploy_path)\n",
    "os.getcwd()"
   ]
  },
  {
   "cell_type": "markdown",
   "metadata": {},
   "source": [
    "## 模型转换-Pytorch转NCCN"
   ]
  },
  {
   "cell_type": "code",
   "execution_count": 3,
   "metadata": {},
   "outputs": [],
   "source": [
    "# 定义输出转换后的文件夹\n",
    "work_dir = \"mmseg2ncnn_deeplabv3plus\"\n",
    "# 先删除文件夹\n",
    "import shutil\n",
    "if os.path.exists(work_dir):\n",
    "    shutil.rmtree(work_dir)"
   ]
  },
  {
   "cell_type": "code",
   "execution_count": 4,
   "metadata": {
    "vscode": {
     "languageId": "powershell"
    }
   },
   "outputs": [
    {
     "name": "stdout",
     "output_type": "stream",
     "text": [
      "08/08 23:21:48 - mmengine - \u001b[5m\u001b[4m\u001b[33mWARNING\u001b[0m - Failed to search registry with scope \"mmseg\" in the \"Codebases\" registry tree. As a workaround, the current \"Codebases\" registry in \"mmdeploy\" is used to build instance. This may cause unexpected failure when running the built modules. Please check whether \"mmseg\" is a correct scope, or whether the registry is initialized.\n",
      "08/08 23:21:48 - mmengine - \u001b[5m\u001b[4m\u001b[33mWARNING\u001b[0m - Failed to search registry with scope \"mmseg\" in the \"mmseg_tasks\" registry tree. As a workaround, the current \"mmseg_tasks\" registry in \"mmdeploy\" is used to build instance. This may cause unexpected failure when running the built modules. Please check whether \"mmseg\" is a correct scope, or whether the registry is initialized.\n",
      "08/08 23:21:53 - mmengine - \u001b[4m\u001b[97mINFO\u001b[0m - Start pipeline mmdeploy.apis.pytorch2onnx.torch2onnx in subprocess\n",
      "08/08 23:21:54 - mmengine - \u001b[5m\u001b[4m\u001b[33mWARNING\u001b[0m - Failed to search registry with scope \"mmseg\" in the \"Codebases\" registry tree. As a workaround, the current \"Codebases\" registry in \"mmdeploy\" is used to build instance. This may cause unexpected failure when running the built modules. Please check whether \"mmseg\" is a correct scope, or whether the registry is initialized.\n",
      "08/08 23:21:54 - mmengine - \u001b[5m\u001b[4m\u001b[33mWARNING\u001b[0m - Failed to search registry with scope \"mmseg\" in the \"mmseg_tasks\" registry tree. As a workaround, the current \"mmseg_tasks\" registry in \"mmdeploy\" is used to build instance. This may cause unexpected failure when running the built modules. Please check whether \"mmseg\" is a correct scope, or whether the registry is initialized.\n",
      "Loads checkpoint by local backend from path: ../mmsegmentation/myFolder/work_dirs/ZihaoDataset-DeepLabV3plus/best_mIoU_iter_19500.pth\n",
      "08/08 23:21:56 - mmengine - \u001b[5m\u001b[4m\u001b[33mWARNING\u001b[0m - DeprecationWarning: get_onnx_config will be deprecated in the future. \n",
      "08/08 23:21:56 - mmengine - \u001b[4m\u001b[97mINFO\u001b[0m - Export PyTorch model to ONNX: mmseg2ncnn_deeplabv3plus\\end2end.onnx.\n",
      "============= Diagnostic Run torch.onnx.export version 2.0.1+cu117 =============\n",
      "verbose: False, log level: Level.ERROR\n",
      "======================= 0 NONE 0 NOTE 1 WARNING 0 ERROR ========================\n",
      "1 WARNING were not printed due to the log level.\n",
      "\n",
      "08/08 23:23:00 - mmengine - \u001b[4m\u001b[97mINFO\u001b[0m - Finish pipeline mmdeploy.apis.pytorch2onnx.torch2onnx\n",
      "08/08 23:23:00 - mmengine - \u001b[4m\u001b[97mINFO\u001b[0m - Start pipeline mmdeploy.apis.utils.utils.to_backend in main process\n"
     ]
    },
    {
     "name": "stderr",
     "output_type": "stream",
     "text": [
      "E:\\Code\\openmmlab\\mmsegmentation\\mmseg\\models\\builder.py:36: UserWarning: ``build_loss`` would be deprecated soon, please use ``mmseg.registry.MODELS.build()`` \n",
      "  warnings.warn('``build_loss`` would be deprecated soon, please use '\n",
      "E:\\Code\\openmmlab\\mmsegmentation\\mmseg\\models\\losses\\cross_entropy_loss.py:235: UserWarning: Default ``avg_non_ignore`` is False, if you would like to ignore the certain label and average loss over non-ignore labels, which is the same with PyTorch official cross_entropy, set ``avg_non_ignore=True``.\n",
      "  warnings.warn(\n",
      "d:\\Anaconda3\\envs\\openmmlab\\lib\\site-packages\\mmdeploy\\pytorch\\functions\\getattribute.py:19: TracerWarning: Converting a tensor to a Python integer might cause the trace to be incorrect. We can't record the data flow of Python values, so this value will be treated as a constant in the future. This means that the trace might not generalize to other inputs!\n",
      "  ret = torch.Size([int(s) for s in ret])\n",
      "d:\\Anaconda3\\envs\\openmmlab\\lib\\site-packages\\mmdeploy\\pytorch\\functions\\size.py:23: TracerWarning: Converting a tensor to a Python integer might cause the trace to be incorrect. We can't record the data flow of Python values, so this value will be treated as a constant in the future. This means that the trace might not generalize to other inputs!\n",
      "  ret = [int(r) for r in ret]\n",
      "[W C:\\actions-runner\\_work\\pytorch\\pytorch\\builder\\windows\\pytorch\\torch\\csrc\\jit\\passes\\onnx\\shape_type_inference.cpp:1924] Warning: The shape inference of mmdeploy::AdaptiveAvgPool2d type is missing, so it may result in wrong shape inference for the exported graph. Please consider adding it in symbolic function. (function UpdateReliable)\n",
      "Traceback (most recent call last):\n",
      "  File \"tools/deploy.py\", line 335, in <module>\n",
      "    main()\n",
      "  File \"tools/deploy.py\", line 259, in main\n",
      "    backend_files = to_backend(\n",
      "  File \"d:\\Anaconda3\\envs\\openmmlab\\lib\\site-packages\\mmdeploy\\apis\\core\\pipeline_manager.py\", line 356, in _wrap\n",
      "    return self.call_function(func_name_, *args, **kwargs)\n",
      "  File \"d:\\Anaconda3\\envs\\openmmlab\\lib\\site-packages\\mmdeploy\\apis\\core\\pipeline_manager.py\", line 326, in call_function\n",
      "    return self.call_function_local(func_name, *args, **kwargs)\n",
      "  File \"d:\\Anaconda3\\envs\\openmmlab\\lib\\site-packages\\mmdeploy\\apis\\core\\pipeline_manager.py\", line 275, in call_function_local\n",
      "    return pipe_caller(*args, **kwargs)\n",
      "  File \"d:\\Anaconda3\\envs\\openmmlab\\lib\\site-packages\\mmdeploy\\apis\\core\\pipeline_manager.py\", line 107, in __call__\n",
      "    ret = func(*args, **kwargs)\n",
      "  File \"d:\\Anaconda3\\envs\\openmmlab\\lib\\site-packages\\mmdeploy\\apis\\utils\\utils.py\", line 98, in to_backend\n",
      "    return backend_mgr.to_backend(\n",
      "  File \"d:\\Anaconda3\\envs\\openmmlab\\lib\\site-packages\\mmdeploy\\backend\\ncnn\\backend_manager.py\", line 141, in to_backend\n",
      "    from_onnx(onnx_path, osp.join(work_dir, onnx_name))\n",
      "  File \"d:\\Anaconda3\\envs\\openmmlab\\lib\\site-packages\\mmdeploy\\backend\\ncnn\\onnx2ncnn.py\", line 71, in from_onnx\n",
      "    ret_code = call([onnx2ncnn_path, onnx_path, save_param, save_bin])\n",
      "  File \"d:\\Anaconda3\\envs\\openmmlab\\lib\\subprocess.py\", line 340, in call\n",
      "    with Popen(*popenargs, **kwargs) as p:\n",
      "  File \"d:\\Anaconda3\\envs\\openmmlab\\lib\\subprocess.py\", line 858, in __init__\n",
      "    self._execute_child(args, executable, preexec_fn, close_fds,\n",
      "  File \"d:\\Anaconda3\\envs\\openmmlab\\lib\\subprocess.py\", line 1327, in _execute_child\n",
      "    hp, ht, pid, tid = _winapi.CreateProcess(executable, args,\n",
      "OSError: [WinError 87] 参数错误。\n"
     ]
    }
   ],
   "source": [
    "# 执行shell命令, 注意更改文件夹\n",
    "!python tools/deploy.py \\\n",
    "        configs/mmseg/segmentation_ncnn_static-512x512.py \\\n",
    "        ../mmsegmentation/myFolder/work_dirs/ZihaoDataset-DeepLabV3plus/ZihaoDataset_DeepLabV3plus_20230712.py \\\n",
    "        ../mmsegmentation/myFolder/work_dirs/ZihaoDataset-DeepLabV3plus/best_mIoU_iter_19500.pth \\\n",
    "        ../mmsegmentation/data/watermelon_test1.jpg \\\n",
    "        --work-dir mmseg2ncnn_deeplabv3plus \\\n",
    "        --dump-info"
   ]
  },
  {
   "cell_type": "markdown",
   "metadata": {},
   "source": [
    "## 生成以下文件\n",
    "验证转换成功（非必需）：\n",
    "\n",
    "output_onnxruntime.jpg：用ONNX Runtime推理框架的预测结果，应与output_pytorch.jpg几乎相同\n",
    "\n",
    "output_pytorch.jpg：用原生Pytorch的预测结果，应与output_onnxruntime.jpg几乎相同\n",
    "\n",
    "detail.json：模型转ONNX的信息，用于追溯bug\n",
    "\n",
    "转换得到的模型及信息（必需）：\n",
    "\n",
    "deploy.json：模型描述，用于MMDeploy Runtime推理\n",
    "\n",
    "end2end.onnx：ONNX模型\n",
    "\n",
    "pipeline.json：模型输入、推理、后处理，每一步骤的输入输出信息"
   ]
  }
 ],
 "metadata": {
  "kernelspec": {
   "display_name": "openmmlab",
   "language": "python",
   "name": "python3"
  },
  "language_info": {
   "codemirror_mode": {
    "name": "ipython",
    "version": 3
   },
   "file_extension": ".py",
   "mimetype": "text/x-python",
   "name": "python",
   "nbconvert_exporter": "python",
   "pygments_lexer": "ipython3",
   "version": "3.8.17"
  },
  "orig_nbformat": 4
 },
 "nbformat": 4,
 "nbformat_minor": 2
}
