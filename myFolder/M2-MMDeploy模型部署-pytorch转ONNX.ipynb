{
 "cells": [
  {
   "cell_type": "code",
   "execution_count": 4,
   "metadata": {},
   "outputs": [
    {
     "data": {
      "text/plain": [
       "'e:\\\\Code\\\\openmmlab\\\\mmdeploy'"
      ]
     },
     "execution_count": 4,
     "metadata": {},
     "output_type": "execute_result"
    }
   ],
   "source": [
    "import os\n",
    "import workspace_path\n",
    "os.chdir(workspace_path.mmdeploy_path)\n",
    "os.getcwd()"
   ]
  },
  {
   "cell_type": "markdown",
   "metadata": {},
   "source": [
    "## 模型转换-Pytorch转ONNX"
   ]
  },
  {
   "cell_type": "code",
   "execution_count": 5,
   "metadata": {},
   "outputs": [],
   "source": [
    "# 定义输出转换后的文件夹\n",
    "work_dir = \"mmseg2onnx_deeplabv3plus\"\n",
    "# 先删除文件夹\n",
    "import shutil\n",
    "if os.path.exists(work_dir):\n",
    "    shutil.rmtree(work_dir)"
   ]
  },
  {
   "cell_type": "code",
   "execution_count": 7,
   "metadata": {
    "vscode": {
     "languageId": "powershell"
    }
   },
   "outputs": [
    {
     "name": "stdout",
     "output_type": "stream",
     "text": [
      "08/08 23:06:30 - mmengine - \u001b[5m\u001b[4m\u001b[33mWARNING\u001b[0m - Failed to search registry with scope \"mmseg\" in the \"Codebases\" registry tree. As a workaround, the current \"Codebases\" registry in \"mmdeploy\" is used to build instance. This may cause unexpected failure when running the built modules. Please check whether \"mmseg\" is a correct scope, or whether the registry is initialized.\n",
      "08/08 23:06:30 - mmengine - \u001b[5m\u001b[4m\u001b[33mWARNING\u001b[0m - Failed to search registry with scope \"mmseg\" in the \"mmseg_tasks\" registry tree. As a workaround, the current \"mmseg_tasks\" registry in \"mmdeploy\" is used to build instance. This may cause unexpected failure when running the built modules. Please check whether \"mmseg\" is a correct scope, or whether the registry is initialized.\n",
      "08/08 23:06:34 - mmengine - \u001b[4m\u001b[97mINFO\u001b[0m - Start pipeline mmdeploy.apis.pytorch2onnx.torch2onnx in subprocess\n",
      "08/08 23:06:35 - mmengine - \u001b[5m\u001b[4m\u001b[33mWARNING\u001b[0m - Failed to search registry with scope \"mmseg\" in the \"Codebases\" registry tree. As a workaround, the current \"Codebases\" registry in \"mmdeploy\" is used to build instance. This may cause unexpected failure when running the built modules. Please check whether \"mmseg\" is a correct scope, or whether the registry is initialized.\n",
      "08/08 23:06:35 - mmengine - \u001b[5m\u001b[4m\u001b[33mWARNING\u001b[0m - Failed to search registry with scope \"mmseg\" in the \"mmseg_tasks\" registry tree. As a workaround, the current \"mmseg_tasks\" registry in \"mmdeploy\" is used to build instance. This may cause unexpected failure when running the built modules. Please check whether \"mmseg\" is a correct scope, or whether the registry is initialized.\n",
      "Loads checkpoint by local backend from path: ../mmsegmentation/myFolder/work_dirs/ZihaoDataset-DeepLabV3plus/best_mIoU_iter_19500.pth\n",
      "08/08 23:06:37 - mmengine - \u001b[5m\u001b[4m\u001b[33mWARNING\u001b[0m - DeprecationWarning: get_onnx_config will be deprecated in the future. \n",
      "08/08 23:06:37 - mmengine - \u001b[4m\u001b[97mINFO\u001b[0m - Export PyTorch model to ONNX: mmseg2onnx_deeplabv3plus\\end2end.onnx.\n",
      "08/08 23:06:56 - mmengine - \u001b[4m\u001b[97mINFO\u001b[0m - Execute onnx optimize passes.\n",
      "08/08 23:06:56 - mmengine - \u001b[5m\u001b[4m\u001b[33mWARNING\u001b[0m - Can not optimize model, please build torchscipt extension.\n",
      "More details: https://github.com/open-mmlab/mmdeploy/tree/main/docs/en/experimental/onnx_optimizer.md\n",
      "============= Diagnostic Run torch.onnx.export version 2.0.1+cu117 =============\n",
      "verbose: False, log level: Level.ERROR\n",
      "======================= 0 NONE 0 NOTE 0 WARNING 0 ERROR ========================\n",
      "\n",
      "08/08 23:06:57 - mmengine - \u001b[4m\u001b[97mINFO\u001b[0m - Finish pipeline mmdeploy.apis.pytorch2onnx.torch2onnx\n",
      "08/08 23:06:58 - mmengine - \u001b[4m\u001b[97mINFO\u001b[0m - Start pipeline mmdeploy.apis.utils.utils.to_backend in main process\n",
      "08/08 23:06:58 - mmengine - \u001b[4m\u001b[97mINFO\u001b[0m - Finish pipeline mmdeploy.apis.utils.utils.to_backend\n",
      "08/08 23:06:58 - mmengine - \u001b[4m\u001b[97mINFO\u001b[0m - visualize onnxruntime model start.\n",
      "08/08 23:07:03 - mmengine - \u001b[5m\u001b[4m\u001b[33mWARNING\u001b[0m - Failed to search registry with scope \"mmseg\" in the \"Codebases\" registry tree. As a workaround, the current \"Codebases\" registry in \"mmdeploy\" is used to build instance. This may cause unexpected failure when running the built modules. Please check whether \"mmseg\" is a correct scope, or whether the registry is initialized.\n",
      "08/08 23:07:03 - mmengine - \u001b[5m\u001b[4m\u001b[33mWARNING\u001b[0m - Failed to search registry with scope \"mmseg\" in the \"mmseg_tasks\" registry tree. As a workaround, the current \"mmseg_tasks\" registry in \"mmdeploy\" is used to build instance. This may cause unexpected failure when running the built modules. Please check whether \"mmseg\" is a correct scope, or whether the registry is initialized.\n",
      "08/08 23:07:03 - mmengine - \u001b[5m\u001b[4m\u001b[33mWARNING\u001b[0m - Failed to search registry with scope \"mmseg\" in the \"backend_segmentors\" registry tree. As a workaround, the current \"backend_segmentors\" registry in \"mmdeploy\" is used to build instance. This may cause unexpected failure when running the built modules. Please check whether \"mmseg\" is a correct scope, or whether the registry is initialized.\n",
      "08/08 23:07:03 - mmengine - \u001b[4m\u001b[97mINFO\u001b[0m - Successfully loaded onnxruntime custom ops from d:\\Anaconda3\\envs\\openmmlab\\lib\\site-packages\\mmdeploy\\lib\\mmdeploy_onnxruntime_ops.dll\n",
      "08/08 23:07:22 - mmengine - \u001b[4m\u001b[97mINFO\u001b[0m - visualize onnxruntime model success.\n",
      "08/08 23:07:22 - mmengine - \u001b[4m\u001b[97mINFO\u001b[0m - visualize pytorch model start.\n",
      "08/08 23:07:27 - mmengine - \u001b[5m\u001b[4m\u001b[33mWARNING\u001b[0m - Failed to search registry with scope \"mmseg\" in the \"Codebases\" registry tree. As a workaround, the current \"Codebases\" registry in \"mmdeploy\" is used to build instance. This may cause unexpected failure when running the built modules. Please check whether \"mmseg\" is a correct scope, or whether the registry is initialized.\n",
      "08/08 23:07:27 - mmengine - \u001b[5m\u001b[4m\u001b[33mWARNING\u001b[0m - Failed to search registry with scope \"mmseg\" in the \"mmseg_tasks\" registry tree. As a workaround, the current \"mmseg_tasks\" registry in \"mmdeploy\" is used to build instance. This may cause unexpected failure when running the built modules. Please check whether \"mmseg\" is a correct scope, or whether the registry is initialized.\n",
      "Loads checkpoint by local backend from path: ../mmsegmentation/myFolder/work_dirs/ZihaoDataset-DeepLabV3plus/best_mIoU_iter_19500.pth\n",
      "08/08 23:07:48 - mmengine - \u001b[4m\u001b[97mINFO\u001b[0m - visualize pytorch model success.\n",
      "08/08 23:07:48 - mmengine - \u001b[4m\u001b[97mINFO\u001b[0m - All process success.\n"
     ]
    },
    {
     "name": "stderr",
     "output_type": "stream",
     "text": [
      "E:\\Code\\openmmlab\\mmsegmentation\\mmseg\\models\\builder.py:36: UserWarning: ``build_loss`` would be deprecated soon, please use ``mmseg.registry.MODELS.build()`` \n",
      "  warnings.warn('``build_loss`` would be deprecated soon, please use '\n",
      "E:\\Code\\openmmlab\\mmsegmentation\\mmseg\\models\\losses\\cross_entropy_loss.py:235: UserWarning: Default ``avg_non_ignore`` is False, if you would like to ignore the certain label and average loss over non-ignore labels, which is the same with PyTorch official cross_entropy, set ``avg_non_ignore=True``.\n",
      "  warnings.warn(\n",
      "d:\\Anaconda3\\envs\\openmmlab\\lib\\site-packages\\mmdeploy\\core\\optimizers\\function_marker.py:160: TracerWarning: Converting a tensor to a Python integer might cause the trace to be incorrect. We can't record the data flow of Python values, so this value will be treated as a constant in the future. This means that the trace might not generalize to other inputs!\n",
      "  ys_shape = tuple(int(s) for s in ys.shape)\n",
      "d:\\Anaconda3\\envs\\openmmlab\\lib\\site-packages\\mmdeploy\\codebase\\mmseg\\models\\segmentors\\base.py:61: TracerWarning: Converting a tensor to a Python boolean might cause the trace to be incorrect. We can't record the data flow of Python values, so this value will be treated as a constant in the future. This means that the trace might not generalize to other inputs!\n",
      "  if seg_logit.shape[1] == 1:\n",
      "E:\\Code\\openmmlab\\mmsegmentation\\mmseg\\models\\builder.py:36: UserWarning: ``build_loss`` would be deprecated soon, please use ``mmseg.registry.MODELS.build()`` \n",
      "  warnings.warn('``build_loss`` would be deprecated soon, please use '\n",
      "E:\\Code\\openmmlab\\mmsegmentation\\mmseg\\models\\losses\\cross_entropy_loss.py:235: UserWarning: Default ``avg_non_ignore`` is False, if you would like to ignore the certain label and average loss over non-ignore labels, which is the same with PyTorch official cross_entropy, set ``avg_non_ignore=True``.\n",
      "  warnings.warn(\n"
     ]
    }
   ],
   "source": [
    "# 执行shell命令, 注意更改文件夹\n",
    "!python tools/deploy.py \\\n",
    "        configs/mmseg/segmentation_onnxruntime_dynamic.py \\\n",
    "        ../mmsegmentation/myFolder/work_dirs/ZihaoDataset-DeepLabV3plus/ZihaoDataset_DeepLabV3plus_20230712.py \\\n",
    "        ../mmsegmentation/myFolder/work_dirs/ZihaoDataset-DeepLabV3plus/best_mIoU_iter_19500.pth \\\n",
    "        ../mmsegmentation/data/watermelon_test1.jpg \\\n",
    "        --work-dir mmseg2onnx_deeplabv3plus \\\n",
    "        --dump-info"
   ]
  },
  {
   "cell_type": "markdown",
   "metadata": {},
   "source": [
    "## 生成以下文件\n",
    "验证转换成功（非必需）：\n",
    "\n",
    "output_onnxruntime.jpg：用ONNX Runtime推理框架的预测结果，应与output_pytorch.jpg几乎相同\n",
    "\n",
    "output_pytorch.jpg：用原生Pytorch的预测结果，应与output_onnxruntime.jpg几乎相同\n",
    "\n",
    "detail.json：模型转ONNX的信息，用于追溯bug\n",
    "\n",
    "转换得到的模型及信息（必需）：\n",
    "\n",
    "deploy.json：模型描述，用于MMDeploy Runtime推理\n",
    "\n",
    "end2end.onnx：ONNX模型\n",
    "\n",
    "pipeline.json：模型输入、推理、后处理，每一步骤的输入输出信息"
   ]
  }
 ],
 "metadata": {
  "kernelspec": {
   "display_name": "openmmlab",
   "language": "python",
   "name": "python3"
  },
  "language_info": {
   "codemirror_mode": {
    "name": "ipython",
    "version": 3
   },
   "file_extension": ".py",
   "mimetype": "text/x-python",
   "name": "python",
   "nbconvert_exporter": "python",
   "pygments_lexer": "ipython3",
   "version": "3.8.17"
  },
  "orig_nbformat": 4
 },
 "nbformat": 4,
 "nbformat_minor": 2
}
