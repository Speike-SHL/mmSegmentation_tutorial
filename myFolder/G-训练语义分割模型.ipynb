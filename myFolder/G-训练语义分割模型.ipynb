{
 "cells": [
  {
   "cell_type": "markdown",
   "id": "54f01792-37fc-4889-8cdf-5b5c0218f4c2",
   "metadata": {},
   "source": [
    "# 训练语义分割模型\n",
    "\n",
    "同济子豪兄 2023-2-13 6-12 6-25 6-30"
   ]
  },
  {
   "cell_type": "markdown",
   "id": "895c5c8e-9683-4e88-a906-01e6f892fff6",
   "metadata": {
    "jp-MarkdownHeadingCollapsed": true,
    "tags": []
   },
   "source": [
    "## config配置文件（任选其一）\n",
    "\n",
    "- ZihaoDataset_UNet_20230712.py\n",
    "\n",
    "- ZihaoDataset_DeepLabV3plus_20230712.py\n",
    "\n",
    "- ZihaoDataset_PSPNet_20230712.py\n",
    "\n",
    "- ZihaoDataset_KNet_20230712.py\n",
    "\n",
    "- ZihaoDataset_Segformer_20230712.py\n",
    "\n",
    "- ZihaoDataset_Mask2Former_20230712.py\n",
    "\n",
    "- ZihaoDataset_PSPNet_Mobile_20230712.py\n",
    "\n",
    "- ZihaoDataset_FastSCNN_20230712.py\n",
    "\n",
    "- ZihaoDataset_DDRNet_20230712.py\n",
    "\n",
    "- ZihaoDataset_PIDNet_20230712.py"
   ]
  },
  {
   "cell_type": "code",
   "execution_count": null,
   "id": "6ece87c2-7b4d-413d-8a47-b34a07f4570d",
   "metadata": {
    "ExecuteTime": {
     "end_time": "2023-08-07T12:40:22.914320400Z",
     "start_time": "2023-08-07T12:40:22.901356500Z"
    }
   },
   "outputs": [],
   "source": [
    "import os\n",
    "import workspace_path\n",
    "os.chdir(workspace_path.path)"
   ]
  },
  {
   "cell_type": "code",
   "execution_count": null,
   "id": "5d6c698f-dfc9-426a-bf49-5605aa37fd92",
   "metadata": {
    "ExecuteTime": {
     "end_time": "2023-08-07T12:40:24.441803400Z",
     "start_time": "2023-08-07T12:40:24.391801100Z"
    }
   },
   "outputs": [],
   "source": [
    "os.getcwd()"
   ]
  },
  {
   "cell_type": "code",
   "execution_count": null,
   "id": "164d6f92-68ae-4957-85c3-e69474418240",
   "metadata": {
    "ExecuteTime": {
     "end_time": "2023-08-07T12:41:42.704338800Z",
     "start_time": "2023-08-07T12:40:27.161316400Z"
    }
   },
   "outputs": [],
   "source": [
    "# 开始训练\n",
    "!python tools/train.py myFolder/config/ZihaoDataset_UNet_20230712.py"
   ]
  },
  {
   "cell_type": "markdown",
   "id": "6aa9e5f1-f579-4f16-aa97-ca02c1bb29f8",
   "metadata": {},
   "source": [
    "## 如果遇到报错`CUDA out of memeory`，可尝试以下步骤：\n",
    "\n",
    "1. 调小 batch size\n",
    "\n",
    "2. 左上角`内核-关闭所有内核`\n",
    "\n",
    "3. 重启实例，或者使用显存更高的实例即可。"
   ]
  }
 ],
 "metadata": {
  "kernelspec": {
   "display_name": "Python 3 (ipykernel)",
   "language": "python",
   "name": "python3"
  },
  "language_info": {
   "codemirror_mode": {
    "name": "ipython",
    "version": 3
   },
   "file_extension": ".py",
   "mimetype": "text/x-python",
   "name": "python",
   "nbconvert_exporter": "python",
   "pygments_lexer": "ipython3",
   "version": "3.8.17"
  }
 },
 "nbformat": 4,
 "nbformat_minor": 5
}
