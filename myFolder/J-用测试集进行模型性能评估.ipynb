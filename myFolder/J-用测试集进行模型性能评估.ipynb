{
 "cells": [
  {
   "cell_type": "code",
   "execution_count": null,
   "metadata": {},
   "outputs": [],
   "source": [
    "import os\n",
    "import workspace_path\n",
    "os.chdir(workspace_path.path)"
   ]
  },
  {
   "cell_type": "markdown",
   "metadata": {},
   "source": [
    "## Fast-SCNN 测试集精度指标"
   ]
  },
  {
   "cell_type": "code",
   "execution_count": null,
   "metadata": {},
   "outputs": [],
   "source": [
    "!python ./tools/test.py ./myFolder/config/ZihaoDataset_FastSCNN_20230712.py ./myFolder/checkpoint/watermelon/FastSCNN/Zihao_FastSCNN.pth"
   ]
  },
  {
   "cell_type": "markdown",
   "metadata": {},
   "source": [
    "## 速度指标-FPS\n",
    "\n",
    "测试集至少要有200张图片, 否则跑不出分数"
   ]
  },
  {
   "cell_type": "code",
   "execution_count": null,
   "metadata": {},
   "outputs": [],
   "source": [
    "# !python ./tools/analysis_tools/benchmark.py ./myFolder/config/ZihaoDataset_FastSCNN_20230712.py ./myFolder/checkpoint/watermelon/FastSCNN/Zihao_FastSCNN.pth"
   ]
  },
  {
   "cell_type": "markdown",
   "metadata": {},
   "source": [
    "## UNet\n",
    "\n",
    "```shell\n",
    "+------------+-------+-------+-------+--------+-----------+--------+\n",
    "|   Class    |  IoU  |  Acc  |  Dice | Fscore | Precision | Recall |\n",
    "+------------+-------+-------+-------+--------+-----------+--------+\n",
    "| background | 94.42 | 95.49 | 97.13 | 97.13  |   98.82   | 95.49  |\n",
    "|    red     | 90.98 | 98.54 | 95.28 | 95.28  |   92.22   | 98.54  |\n",
    "|   green    | 87.23 | 91.46 | 93.18 | 93.18  |   94.97   | 91.46  |\n",
    "|   white    | 82.51 | 93.92 | 90.42 | 90.42  |   87.16   | 93.92  |\n",
    "| seed-black |  67.0 | 77.91 | 80.24 | 80.24  |   82.71   | 77.91  |\n",
    "| seed-white | 46.94 | 51.11 | 63.89 | 63.89  |   85.21   | 51.11  |\n",
    "+------------+-------+-------+-------+--------+-----------+--------+\n",
    "2023/06/29 12:36:05 - mmengine - INFO - Iter(val) [11/11]    aAcc: 95.7300  mIoU: 78.1800  mAcc: 84.7400  mDice: 86.6900  mFscore: 86.6900  mPrecision: 90.1800  mRecall: 84.7400  data_time: 0.0103  time: 0.1196\n",
    "```"
   ]
  },
  {
   "cell_type": "markdown",
   "metadata": {},
   "source": [
    "## DeepLabV3+\n",
    "\n",
    "```shell\n",
    "+------------+-------+-------+-------+--------+-----------+--------+\n",
    "|   Class    |  IoU  |  Acc  |  Dice | Fscore | Precision | Recall |\n",
    "+------------+-------+-------+-------+--------+-----------+--------+\n",
    "| background | 93.54 | 94.91 | 96.66 | 96.66  |   98.48   | 94.91  |\n",
    "|    red     | 92.43 | 98.98 | 96.07 | 96.07  |   93.32   | 98.98  |\n",
    "|   green    | 73.75 | 93.14 | 84.89 | 84.89  |   77.99   | 93.14  |\n",
    "|   white    | 79.49 | 84.11 | 88.57 | 88.57  |   93.53   | 84.11  |\n",
    "| seed-black |  63.9 | 75.86 | 77.98 | 77.98  |   80.21   | 75.86  |\n",
    "| seed-white | 46.54 | 48.63 | 63.52 | 63.52  |   91.53   | 48.63  |\n",
    "+------------+-------+-------+-------+--------+-----------+--------+\n",
    "07/11 16:55:34 - mmengine - INFO - Iter(val) [11/11]    aAcc: 94.9400  mIoU: 74.9400  mAcc: 82.6100  mDice: 84.6100  mFscore: 84.6100  mPrecision: 89.1800  mRecall: 82.6100  data_time: 0.0083  time: 0.2423\n",
    "```"
   ]
  },
  {
   "cell_type": "markdown",
   "metadata": {},
   "source": [
    "## PSPNet\n",
    "\n",
    "```shell\n",
    "+------------+-------+-------+-------+--------+-----------+--------+\n",
    "|   Class    |  IoU  |  Acc  |  Dice | Fscore | Precision | Recall |\n",
    "+------------+-------+-------+-------+--------+-----------+--------+\n",
    "| background | 97.59 | 98.49 | 98.78 | 98.78  |   99.07   | 98.49  |\n",
    "|    red     | 95.26 | 98.43 | 97.57 | 97.57  |   96.72   | 98.43  |\n",
    "|   green    | 90.52 | 93.63 | 95.03 | 95.03  |   96.46   | 93.63  |\n",
    "|   white    |  84.4 | 92.34 | 91.54 | 91.54  |   90.75   | 92.34  |\n",
    "| seed-black | 72.66 | 84.22 | 84.16 | 84.16  |   84.11   | 84.22  |\n",
    "| seed-white | 63.99 |  69.5 | 78.04 | 78.04  |   88.99   |  69.5  |\n",
    "+------------+-------+-------+-------+--------+-----------+--------+\n",
    "2023/06/28 18:43:06 - mmengine - INFO - Iter(val) [11/11]    aAcc: 97.5800  mIoU: 84.0700  mAcc: 89.4300  mDice: 90.8500  mFscore: 90.8500  mPrecision: 92.6800  mRecall: 89.4300  data_time: 0.0068  time: 0.0564\n",
    "```"
   ]
  },
  {
   "cell_type": "markdown",
   "metadata": {},
   "source": [
    "## PSPNet-Mobile\n",
    "\n",
    "```shell\n",
    "+------------+-------+-------+-------+--------+-----------+--------+\n",
    "|   Class    |  IoU  |  Acc  |  Dice | Fscore | Precision | Recall |\n",
    "+------------+-------+-------+-------+--------+-----------+--------+\n",
    "| background | 96.89 | 97.88 | 98.42 | 98.42  |   98.97   | 97.88  |\n",
    "|    red     | 95.52 | 98.28 | 97.71 | 97.71  |   97.14   | 98.28  |\n",
    "|   green    | 85.44 | 91.95 | 92.15 | 92.15  |   92.34   | 91.95  |\n",
    "|   white    | 84.29 | 94.54 | 91.48 | 91.48  |   88.61   | 94.54  |\n",
    "| seed-black | 70.26 | 80.16 | 82.53 | 82.53  |   85.04   | 80.16  |\n",
    "| seed-white | 57.06 | 61.79 | 72.66 | 72.66  |   88.15   | 61.79  |\n",
    "+------------+-------+-------+-------+--------+-----------+--------+\n",
    "07/12 23:26:33 - mmengine - INFO - Iter(val) [11/11]    aAcc: 97.1800  mIoU: 81.5700  mAcc: 87.4300  mDice: 89.1600  mFscore: 89.1600  mPrecision: 91.7100  mRecall: 87.4300  data_time: 0.0087  time: 0.0389\n",
    "```"
   ]
  },
  {
   "cell_type": "markdown",
   "metadata": {},
   "source": [
    "## KNet\n",
    "\n",
    "```shell\n",
    "+------------+-------+-------+-------+--------+-----------+--------+\n",
    "|   Class    |  IoU  |  Acc  |  Dice | Fscore | Precision | Recall |\n",
    "+------------+-------+-------+-------+--------+-----------+--------+\n",
    "| background | 98.34 | 98.99 | 99.16 | 99.16  |   99.33   | 98.99  |\n",
    "|    red     | 95.76 | 98.29 | 97.83 | 97.83  |   97.38   | 98.29  |\n",
    "|   green    | 94.81 | 96.43 | 97.34 | 97.34  |   98.26   | 96.43  |\n",
    "|   white    | 84.89 | 92.43 | 91.83 | 91.83  |   91.23   | 92.43  |\n",
    "| seed-black | 77.32 | 86.66 | 87.21 | 87.21  |   87.76   | 86.66  |\n",
    "| seed-white | 71.22 | 82.55 | 83.19 | 83.19  |   83.84   | 82.55  |\n",
    "+------------+-------+-------+-------+--------+-----------+--------+\n",
    "06/29 19:46:09 - mmengine - INFO - Iter(val) [11/11]    aAcc: 98.0800  mIoU: 87.0600  mAcc: 92.5600  mDice: 92.7600  mFscore: 92.7600  mPrecision: 92.9700  mRecall: 92.5600  data_time: 0.0075  time: 0.2554\n",
    "```"
   ]
  },
  {
   "cell_type": "markdown",
   "metadata": {},
   "source": [
    "## SegFormer\n",
    "\n",
    "```shell\n",
    "+------------+-------+-------+-------+--------+-----------+--------+\n",
    "|   Class    |  IoU  |  Acc  |  Dice | Fscore | Precision | Recall |\n",
    "+------------+-------+-------+-------+--------+-----------+--------+\n",
    "| background | 97.24 | 98.09 |  98.6 |  98.6  |   99.11   | 98.09  |\n",
    "|    red     | 95.31 | 98.33 |  97.6 |  97.6  |   96.88   | 98.33  |\n",
    "|   green    | 88.42 | 96.34 | 93.85 | 93.85  |   91.49   | 96.34  |\n",
    "|   white    | 84.39 | 91.16 | 91.53 | 91.53  |   91.91   | 91.16  |\n",
    "| seed-black |  74.0 | 81.39 | 85.06 | 85.06  |   89.07   | 81.39  |\n",
    "| seed-white | 66.56 | 69.76 | 79.92 | 79.92  |   93.55   | 69.76  |\n",
    "+------------+-------+-------+-------+--------+-----------+--------+\n",
    "06/30 12:40:48 - mmengine - INFO - Iter(val) [11/11]    aAcc: 97.4100  mIoU: 84.3200  mAcc: 89.1800  mDice: 91.0900  mFscore: 91.0900  mPrecision: 93.6700  mRecall: 89.1800  data_time: 0.0085  time: 0.1888\n",
    "```"
   ]
  },
  {
   "cell_type": "markdown",
   "metadata": {},
   "source": [
    "## Mask2Former\n",
    "\n",
    "```shell\n",
    "+------------+-------+-------+-------+--------+-----------+--------+\n",
    "|   Class    |  IoU  |  Acc  |  Dice | Fscore | Precision | Recall |\n",
    "+------------+-------+-------+-------+--------+-----------+--------+\n",
    "| background | 98.43 |  99.0 | 99.21 | 99.21  |   99.41   |  99.0  |\n",
    "|    red     | 96.19 | 98.28 | 98.06 | 98.06  |   97.84   | 98.28  |\n",
    "|   green    | 94.29 | 95.64 | 97.06 | 97.06  |   98.53   | 95.64  |\n",
    "|   white    |  85.1 | 93.98 | 91.95 | 91.95  |    90.0   | 93.98  |\n",
    "| seed-black | 76.93 |  86.0 | 86.96 | 86.96  |   87.95   |  86.0  |\n",
    "| seed-white | 62.81 | 83.88 | 77.16 | 77.16  |   71.44   | 83.88  |\n",
    "+------------+-------+-------+-------+--------+-----------+--------+\n",
    "07/11 16:13:32 - mmengine - INFO - Iter(val) [11/11]    aAcc: 98.1400  mIoU: 85.6300  mAcc: 92.8000  mDice: 91.7300  mFscore: 91.7300  mPrecision: 90.8600  mRecall: 92.8000  data_time: 0.0090  time: 0.3731\n",
    "```"
   ]
  },
  {
   "cell_type": "markdown",
   "metadata": {},
   "source": [
    "## Fast-SCNN\n",
    "```shell\n",
    "+------------+-------+-------+-------+--------+-----------+--------+\n",
    "|   Class    |  IoU  |  Acc  |  Dice | Fscore | Precision | Recall |\n",
    "+------------+-------+-------+-------+--------+-----------+--------+\n",
    "| background | 95.65 | 96.92 | 97.78 | 97.78  |   98.64   | 96.92  |\n",
    "|    red     | 94.82 | 98.39 | 97.34 | 97.34  |   96.31   | 98.39  |\n",
    "|   green    | 79.56 | 93.45 | 88.62 | 88.62  |   84.26   | 93.45  |\n",
    "|   white    | 81.65 |  88.6 |  89.9 |  89.9  |   91.25   |  88.6  |\n",
    "| seed-black | 64.04 | 79.29 | 78.08 | 78.08  |    76.9   | 79.29  |\n",
    "| seed-white | 37.69 | 37.97 | 54.75 | 54.75  |   98.09   | 37.97  |\n",
    "+------------+-------+-------+-------+--------+-----------+--------+\n",
    "07/15 23:30:39 - mmengine - INFO - Iter(val) [11/11]    aAcc: 96.3000  mIoU: 75.5700  mAcc: 82.4400  mDice: 84.4100  mFscore: 84.4100  mPrecision: 90.9100  mRecall: 82.4400  data_time: 0.0088  time: 0.0189\n",
    "```"
   ]
  }
 ],
 "metadata": {
  "kernelspec": {
   "display_name": "openmmlab",
   "language": "python",
   "name": "python3"
  },
  "language_info": {
   "codemirror_mode": {
    "name": "ipython",
    "version": 3
   },
   "file_extension": ".py",
   "mimetype": "text/x-python",
   "name": "python",
   "nbconvert_exporter": "python",
   "pygments_lexer": "ipython3",
   "version": "3.8.17"
  },
  "orig_nbformat": 4
 },
 "nbformat": 4,
 "nbformat_minor": 2
}
